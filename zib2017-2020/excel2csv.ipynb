{
 "cells": [
  {
   "cell_type": "code",
   "execution_count": 14,
   "id": "d2a98888-2c21-4388-ae1f-b2876998a927",
   "metadata": {
    "tags": []
   },
   "outputs": [],
   "source": [
    "# Housekeeping, imports\n",
    "import pandas as pd\n",
    "import numpy as np\n",
    "import os\n",
    "from IPython.display import Markdown"
   ]
  },
  {
   "cell_type": "code",
   "execution_count": 15,
   "id": "e3b90eaa-6527-43d3-844b-3f5a640e9830",
   "metadata": {
    "tags": []
   },
   "outputs": [
    {
     "data": {
      "text/html": [
       "<div>\n",
       "<style scoped>\n",
       "    .dataframe tbody tr th:only-of-type {\n",
       "        vertical-align: middle;\n",
       "    }\n",
       "\n",
       "    .dataframe tbody tr th {\n",
       "        vertical-align: top;\n",
       "    }\n",
       "\n",
       "    .dataframe thead th {\n",
       "        text-align: right;\n",
       "    }\n",
       "</style>\n",
       "<table border=\"1\" class=\"dataframe\">\n",
       "  <thead>\n",
       "    <tr style=\"text-align: right;\">\n",
       "      <th></th>\n",
       "      <th>zib</th>\n",
       "      <th>wiki_URL_2020</th>\n",
       "      <th>wiki_URL_2017</th>\n",
       "      <th>OID_zib</th>\n",
       "      <th>sub_header_1</th>\n",
       "      <th>sub_header_2</th>\n",
       "    </tr>\n",
       "  </thead>\n",
       "  <tbody>\n",
       "    <tr>\n",
       "      <th>0</th>\n",
       "      <td>Ademhaling</td>\n",
       "      <td>https://zibs.nl/wiki/Ademhaling-v3.2(2020NL)</td>\n",
       "      <td>https://zibs.nl/wiki/Ademhaling-v3.1(2017NL)</td>\n",
       "      <td>2.16.840.1.113883.2.4.3.11.60.40.3.12.5</td>\n",
       "      <td></td>\n",
       "      <td></td>\n",
       "    </tr>\n",
       "    <tr>\n",
       "      <th>1</th>\n",
       "      <td>Adresgegevens</td>\n",
       "      <td>https://zibs.nl/wiki/Adresgegevens-v1.1(2020NL)</td>\n",
       "      <td>https://zibs.nl/wiki/Adresgegevens-v1.0(2017NL)</td>\n",
       "      <td>2.16.840.1.113883.2.4.3.11.60.40.3.20.5</td>\n",
       "      <td></td>\n",
       "      <td></td>\n",
       "    </tr>\n",
       "    <tr>\n",
       "      <th>2</th>\n",
       "      <td>AlcoholGebruik</td>\n",
       "      <td>https://zibs.nl/wiki/AlcoholGebruik-v3.2(2020NL)</td>\n",
       "      <td>https://zibs.nl/wiki/AlcoholGebruik-v3.1(2017NL)</td>\n",
       "      <td>2.16.840.1.113883.2.4.3.11.60.40.3.7.3</td>\n",
       "      <td></td>\n",
       "      <td></td>\n",
       "    </tr>\n",
       "    <tr>\n",
       "      <th>3</th>\n",
       "      <td>Alert</td>\n",
       "      <td>https://zibs.nl/wiki/Alert-v4.1(2020NL)</td>\n",
       "      <td>https://zibs.nl/wiki/Alert-v3.2(2017NL)</td>\n",
       "      <td>2.16.840.1.113883.2.4.3.11.60.40.3.8.1</td>\n",
       "      <td>zie ZIB-1769 de leveranciers hebben gevraagd w...</td>\n",
       "      <td>zie ook https://www.rivm.nl/antibioticaresiste...</td>\n",
       "    </tr>\n",
       "    <tr>\n",
       "      <th>4</th>\n",
       "      <td>AlgemeneMeting</td>\n",
       "      <td>deprecated in 2020</td>\n",
       "      <td>https://zibs.nl/wiki/AlgemeneMeting-v3.0(2017NL)</td>\n",
       "      <td>2.16.840.1.113883.2.4.3.11.60.40.3.13.3</td>\n",
       "      <td>De zib AlgemeneMeting komt te vervallen. Voor ...</td>\n",
       "      <td></td>\n",
       "    </tr>\n",
       "    <tr>\n",
       "      <th>...</th>\n",
       "      <td>...</td>\n",
       "      <td>...</td>\n",
       "      <td>...</td>\n",
       "      <td>...</td>\n",
       "      <td>...</td>\n",
       "      <td>...</td>\n",
       "    </tr>\n",
       "    <tr>\n",
       "      <th>110</th>\n",
       "      <td>ZorgAfspraak</td>\n",
       "      <td>https://zibs.nl/wiki/ZorgAfspraak-v1.0(2020NL)</td>\n",
       "      <td>nieuw in 2020</td>\n",
       "      <td>2.16.840.1.113883.2.4.3.11.60.40.3.16.2</td>\n",
       "      <td></td>\n",
       "      <td></td>\n",
       "    </tr>\n",
       "    <tr>\n",
       "      <th>111</th>\n",
       "      <td>ZorgEpisode</td>\n",
       "      <td>https://zibs.nl/wiki/ZorgEpisode-v1.0(2020NL)</td>\n",
       "      <td>nieuw in 2020</td>\n",
       "      <td>2.16.840.1.113883.2.4.3.11.60.40.3.16.6</td>\n",
       "      <td></td>\n",
       "      <td></td>\n",
       "    </tr>\n",
       "    <tr>\n",
       "      <th>112</th>\n",
       "      <td>ZorgTeam</td>\n",
       "      <td>https://zibs.nl/wiki/ZorgTeam-v1.0(2020NL)</td>\n",
       "      <td>nieuw in 2020</td>\n",
       "      <td>2.16.840.1.113883.2.4.3.11.60.40.3.17.3</td>\n",
       "      <td></td>\n",
       "      <td></td>\n",
       "    </tr>\n",
       "    <tr>\n",
       "      <th>113</th>\n",
       "      <td>JuridischeSituatie</td>\n",
       "      <td>https://zibs.nl/wiki/JuridischeSituatie-v2.0(2...</td>\n",
       "      <td>nieuw in 2020</td>\n",
       "      <td>2.16.840.1.113883.2.4.3.11.60.40.3.7.17</td>\n",
       "      <td></td>\n",
       "      <td></td>\n",
       "    </tr>\n",
       "    <tr>\n",
       "      <th>114</th>\n",
       "      <td>MedicatieContraIndicatie</td>\n",
       "      <td>https://zibs.nl/wiki/MedicatieContraIndicatie-...</td>\n",
       "      <td>nieuw in 2020</td>\n",
       "      <td>2.16.840.1.113883.2.4.3.11.60.40.3.9.14</td>\n",
       "      <td></td>\n",
       "      <td></td>\n",
       "    </tr>\n",
       "  </tbody>\n",
       "</table>\n",
       "<p>115 rows × 6 columns</p>\n",
       "</div>"
      ],
      "text/plain": [
       "                          zib  \\\n",
       "0                  Ademhaling   \n",
       "1               Adresgegevens   \n",
       "2              AlcoholGebruik   \n",
       "3                       Alert   \n",
       "4              AlgemeneMeting   \n",
       "..                        ...   \n",
       "110              ZorgAfspraak   \n",
       "111               ZorgEpisode   \n",
       "112                  ZorgTeam   \n",
       "113        JuridischeSituatie   \n",
       "114  MedicatieContraIndicatie   \n",
       "\n",
       "                                         wiki_URL_2020  \\\n",
       "0         https://zibs.nl/wiki/Ademhaling-v3.2(2020NL)   \n",
       "1      https://zibs.nl/wiki/Adresgegevens-v1.1(2020NL)   \n",
       "2     https://zibs.nl/wiki/AlcoholGebruik-v3.2(2020NL)   \n",
       "3              https://zibs.nl/wiki/Alert-v4.1(2020NL)   \n",
       "4                                   deprecated in 2020   \n",
       "..                                                 ...   \n",
       "110     https://zibs.nl/wiki/ZorgAfspraak-v1.0(2020NL)   \n",
       "111      https://zibs.nl/wiki/ZorgEpisode-v1.0(2020NL)   \n",
       "112         https://zibs.nl/wiki/ZorgTeam-v1.0(2020NL)   \n",
       "113  https://zibs.nl/wiki/JuridischeSituatie-v2.0(2...   \n",
       "114  https://zibs.nl/wiki/MedicatieContraIndicatie-...   \n",
       "\n",
       "                                        wiki_URL_2017  \\\n",
       "0        https://zibs.nl/wiki/Ademhaling-v3.1(2017NL)   \n",
       "1     https://zibs.nl/wiki/Adresgegevens-v1.0(2017NL)   \n",
       "2    https://zibs.nl/wiki/AlcoholGebruik-v3.1(2017NL)   \n",
       "3             https://zibs.nl/wiki/Alert-v3.2(2017NL)   \n",
       "4    https://zibs.nl/wiki/AlgemeneMeting-v3.0(2017NL)   \n",
       "..                                                ...   \n",
       "110                                     nieuw in 2020   \n",
       "111                                     nieuw in 2020   \n",
       "112                                     nieuw in 2020   \n",
       "113                                     nieuw in 2020   \n",
       "114                                     nieuw in 2020   \n",
       "\n",
       "                                     OID_zib  \\\n",
       "0    2.16.840.1.113883.2.4.3.11.60.40.3.12.5   \n",
       "1    2.16.840.1.113883.2.4.3.11.60.40.3.20.5   \n",
       "2     2.16.840.1.113883.2.4.3.11.60.40.3.7.3   \n",
       "3     2.16.840.1.113883.2.4.3.11.60.40.3.8.1   \n",
       "4    2.16.840.1.113883.2.4.3.11.60.40.3.13.3   \n",
       "..                                       ...   \n",
       "110  2.16.840.1.113883.2.4.3.11.60.40.3.16.2   \n",
       "111  2.16.840.1.113883.2.4.3.11.60.40.3.16.6   \n",
       "112  2.16.840.1.113883.2.4.3.11.60.40.3.17.3   \n",
       "113  2.16.840.1.113883.2.4.3.11.60.40.3.7.17   \n",
       "114  2.16.840.1.113883.2.4.3.11.60.40.3.9.14   \n",
       "\n",
       "                                          sub_header_1  \\\n",
       "0                                                        \n",
       "1                                                        \n",
       "2                                                        \n",
       "3    zie ZIB-1769 de leveranciers hebben gevraagd w...   \n",
       "4    De zib AlgemeneMeting komt te vervallen. Voor ...   \n",
       "..                                                 ...   \n",
       "110                                                      \n",
       "111                                                      \n",
       "112                                                      \n",
       "113                                                      \n",
       "114                                                      \n",
       "\n",
       "                                          sub_header_2  \n",
       "0                                                       \n",
       "1                                                       \n",
       "2                                                       \n",
       "3    zie ook https://www.rivm.nl/antibioticaresiste...  \n",
       "4                                                       \n",
       "..                                                 ...  \n",
       "110                                                     \n",
       "111                                                     \n",
       "112                                                     \n",
       "113                                                     \n",
       "114                                                     \n",
       "\n",
       "[115 rows x 6 columns]"
      ]
     },
     "execution_count": 15,
     "metadata": {},
     "output_type": "execute_result"
    }
   ],
   "source": [
    "# Housekeeping, imports\n",
    "df = pd.read_excel('zib_translaties.xlsx', sheet_name='translatie')\n",
    "zibinfo = pd.read_excel('zib_versions.xlsx', sheet_name='table_info_zibs')\n",
    "zibinfo = zibinfo.fillna('')\n",
    "zibinfo"
   ]
  },
  {
   "cell_type": "code",
   "execution_count": 16,
   "id": "b7ec077d-12b5-4da1-af16-0305ae33e15b",
   "metadata": {},
   "outputs": [
    {
     "data": {
      "text/plain": [
       "Index(['O_Sort1', 'O_Sort2', 'O_Sort3', 'O_status', 'O_DCM_ID', 'H_ZibName',\n",
       "       'T_ConceptID_2017', 'T_ConceptName_2017', 'T_Codelists_2017',\n",
       "       'T_Change', 'T_ConceptID_2020', 'T_ConceptName_2020',\n",
       "       'T_Codelists_2020', 'T_Bits', 'T_Omschrijving', 'T_TypeChange',\n",
       "       'T_Impact_heen', 'T_TRANSLATIE_spec_heen', 'T_Impact_terug',\n",
       "       'T_TRANSLATIE_spec_terug'],\n",
       "      dtype='object')"
      ]
     },
     "execution_count": 16,
     "metadata": {},
     "output_type": "execute_result"
    }
   ],
   "source": [
    "# Replace nulls with emtpy string\n",
    "df = df.fillna('')\n",
    "# Replace characters which trouble XML\n",
    "cols = df.columns\n",
    "# newcols = [col.replace('->', '_').replace('-', '_').replace('>', '_') for col in cols]\n",
    "# df.columns = newcols\n",
    "# cols = df.columns\n",
    "cols"
   ]
  },
  {
   "cell_type": "code",
   "execution_count": 17,
   "id": "467b893b-193d-4d81-90f4-633e8e92955e",
   "metadata": {
    "scrolled": true
   },
   "outputs": [
    {
     "data": {
      "text/plain": [
       "['Sort1',\n",
       " 'Sort2',\n",
       " 'Sort3',\n",
       " 'status',\n",
       " 'DCM_ID',\n",
       " 'ZibName',\n",
       " 'ConceptID_2017',\n",
       " 'ConceptName_2017',\n",
       " 'Codelists_2017',\n",
       " 'Change',\n",
       " 'ConceptID_2020',\n",
       " 'ConceptName_2020',\n",
       " 'Codelists_2020',\n",
       " 'Bits',\n",
       " 'Omschrijving',\n",
       " 'TypeChange',\n",
       " 'Impact_heen',\n",
       " 'TRANSLATIE_spec_heen',\n",
       " 'Impact_terug',\n",
       " 'TRANSLATIE_spec_terug']"
      ]
     },
     "execution_count": 17,
     "metadata": {},
     "output_type": "execute_result"
    }
   ],
   "source": [
    "# Make a list of header and table column names\n",
    "hcols = []\n",
    "tcols = []\n",
    "for col in cols:\n",
    "    if col[0:2] == \"H_\":\n",
    "        hcols.append(col[2:])\n",
    "    elif col[0:2] == \"T_\":\n",
    "        tcols.append(col[2:])\n",
    "    else:\n",
    "        pass\n",
    "newcols = [col[2:] for col in cols]\n",
    "df.columns = newcols\n",
    "newcols"
   ]
  },
  {
   "cell_type": "code",
   "execution_count": 18,
   "id": "6b2ecf07-e374-4de3-8677-499aa12b19d8",
   "metadata": {
    "tags": []
   },
   "outputs": [],
   "source": [
    "# Make a list of zibs.\n",
    "zibs = df['ZibName'].dropna().unique()\n",
    "# zibs"
   ]
  },
  {
   "cell_type": "code",
   "execution_count": 19,
   "id": "40b978a5-5276-4457-882b-17c29c5e018d",
   "metadata": {
    "tags": []
   },
   "outputs": [],
   "source": [
    "# Create folders\n",
    "if not(os.path.exists('mapping')):\n",
    "   os.mkdir(mapping)\n",
    "for format in ['csv', 'md', 'json', 'xml', 'excel']:\n",
    "    if not(os.path.exists(os.path.join('mapping', format))):\n",
    "       os.mkdir(os.path.join('mapping', format))"
   ]
  },
  {
   "cell_type": "code",
   "execution_count": 30,
   "id": "96fc559f-9bb2-4a38-99a9-143301af5676",
   "metadata": {
    "tags": []
   },
   "outputs": [
    {
     "data": {
      "text/markdown": [
       "# AnatomischeLocatie\n",
       "## File formats\n",
       "\n",
       "The translation specs are available as: \n",
       "[CSV](../csv/AnatomischeLocatie.csv) [JSON](../json/AnatomischeLocatie.json) [XML](../xml/AnatomischeLocatie.xml)\n",
       "\n",
       "\n",
       "\n",
       "## Zib AnatomischeLocatie\n",
       "\n",
       "DCM::Id:\t20.7\n",
       "\n",
       "DCM::Name:\tAnatomischeLocatie\n",
       "\n",
       "[nieuw in 2020](nieuw in 2020)\n",
       "\n",
       "[AnatomischeLocatie-v1.0(2020NL)](https://zibs.nl/wiki/AnatomischeLocatie-v1.0(2020NL))\n",
       "\n",
       "\n",
       "\n",
       "\n",
       "\n",
       "\n",
       "\n",
       "\n",
       "\n",
       "## Changes\n",
       "\n",
       "| ConceptID_2017             | ConceptName_2017   | Change   | TypeChange   | Impact_heen   | TRANSLATIE_spec_heen   | Impact_terug   | TRANSLATIE_spec_terug   | Omschrijving   |\n",
       "|:---------------------------|:-------------------|:---------|:-------------|:--------------|:-----------------------|:---------------|:------------------------|:---------------|\n",
       "| **zib toegevoegd in 2020** |                    |          |              |               |                        |                |                         |                |\n",
       "\n",
       "## Mapping\n",
       "\n",
       "| ConceptID_2017             | ConceptName_2017   | Codelists_2017   | Change   | ConceptID_2020             | ConceptName_2020   | Codelists_2020   | Bits   | Omschrijving   | TypeChange   | Impact_heen   | TRANSLATIE_spec_heen   | Impact_terug   | TRANSLATIE_spec_terug   |\n",
       "|:---------------------------|:-------------------|:-----------------|:---------|:---------------------------|:-------------------|:-----------------|:-------|:---------------|:-------------|:--------------|:-----------------------|:---------------|:------------------------|\n",
       "| **zib toegevoegd in 2020** |                    |                  |          | **zib toegevoegd in 2020** |                    |                  |        |                |              |               |                        |                |                         |\n",
       "\n"
      ],
      "text/plain": [
       "<IPython.core.display.Markdown object>"
      ]
     },
     "execution_count": 30,
     "metadata": {},
     "output_type": "execute_result"
    }
   ],
   "source": [
    "# Markdown. Make a header.\n",
    "smallcols = ['ConceptID_2017', 'ConceptName_2017', 'Change', 'TypeChange', 'Impact_heen', 'TRANSLATIE_spec_heen', 'Impact_terug', 'TRANSLATIE_spec_terug',  'Omschrijving']\n",
    "header = \"# {zibname}\\n## File formats\\n\\nThe translation specs are available as: \\n[CSV](../csv/{zibname}.csv) [JSON](../json/{zibname}.json) [XML](../xml/{zibname}.xml)\\n\\n\"\n",
    "subheader = \"\"\n",
    "shcols = ['ConceptID_2017', 'ConceptName_2017', 'Change', 'TypeChange', 'Omschrijving']\n",
    "for zib in zibs:\n",
    "    tdf = df[df['ZibName'] == zib]\n",
    "    tdf = tdf.fillna('')\n",
    "    subheader = \"## Zib \" + zib + \"\\n\\nDCM::Id:\\t\" + str(tdf.iloc[0]['DCM_ID']) + \"\\n\\nDCM::Name:\\t\" + str(tdf.iloc[0]['ZibName']) + \"\\n\\n\"\n",
    "    url = zibinfo[zibinfo['zib'] == zib]['wiki_URL_2017'].item()\n",
    "    subheader = subheader + \"[\" + url.split('/')[-1] + \"](\" + url +\")\\n\\n\"\n",
    "    url = zibinfo[zibinfo['zib'] == zib]['wiki_URL_2020'].item()\n",
    "    subheader = subheader + \"[\" + url.split('/')[-1] + \"](\" + url +\")\\n\\n\"\n",
    "    subheader = subheader + \"\\n\\n\" + zibinfo[zibinfo['zib'] == zib]['sub_header_1'].item()\n",
    "    subheader = subheader + \"\\n\\n\" + zibinfo[zibinfo['zib'] == zib]['sub_header_2'].item()\n",
    "    htable = tdf[(tdf['ConceptID_2017'].str.contains(\"DCM::\"))][shcols]\n",
    "    if not(htable.empty):\n",
    "        mdhtable = '## Zib-level changes\\n\\n' + htable.to_markdown(index=False)\n",
    "    else:\n",
    "        mdhtable = ''\n",
    "    mapping = tdf[~tdf['ConceptID_2017'].str.contains(\"DCM::\")][tcols].to_markdown(index=False)\n",
    "    changes = tdf[~tdf['ConceptID_2017'].str.contains(\"DCM::\") & ~tdf['Change'].str.contains(\"groen\")][smallcols].to_markdown(index=False)\n",
    "    with open(os.path.join('mapping', 'md', zib + '.md'), 'w', encoding='utf8') as file:\n",
    "        content = header.format(zibname = zib) + '\\n\\n' + subheader + '\\n\\n' + mdhtable + '\\n\\n## Changes\\n\\n' + changes  + '\\n\\n## Mapping\\n\\n' + mapping + '\\n\\n'\n",
    "        file.write(content)\n",
    "Markdown(content)"
   ]
  },
  {
   "cell_type": "code",
   "execution_count": 8,
   "id": "0e63c265-df81-4de6-b34c-fb4a12262b82",
   "metadata": {},
   "outputs": [
    {
     "data": {
      "text/plain": [
       "'Ademhaling-v3.1(2017NL)'"
      ]
     },
     "execution_count": 8,
     "metadata": {},
     "output_type": "execute_result"
    }
   ],
   "source": [
    "\"https://zibs.nl/wiki/Ademhaling-v3.1(2017NL)\".split('/')[-1]"
   ]
  },
  {
   "cell_type": "code",
   "execution_count": 9,
   "id": "c552f148-3416-4b6b-8447-1cb6466be8c9",
   "metadata": {
    "tags": []
   },
   "outputs": [],
   "source": [
    "for zib in zibs:\n",
    "    tdf = df[df['ZibName'] == zib][hcols + tcols]\n",
    "    tdf.to_csv(os.path.join('mapping', 'csv', zib + '.csv'), index=False)"
   ]
  },
  {
   "cell_type": "code",
   "execution_count": 10,
   "id": "c4da46c5-1c77-40c4-9e3f-8a3344feab4b",
   "metadata": {
    "tags": []
   },
   "outputs": [],
   "source": [
    "for zib in zibs:\n",
    "    tdf = df[df['ZibName'] == zib][hcols + tcols]\n",
    "    tdf.to_xml(os.path.join('mapping', 'xml', zib + '.xml'), index=False)"
   ]
  },
  {
   "cell_type": "code",
   "execution_count": 11,
   "id": "eefa4ab6-daa2-41fa-b5b3-f1b66832108c",
   "metadata": {
    "tags": []
   },
   "outputs": [],
   "source": [
    "for zib in zibs:\n",
    "    tdf = df[df['ZibName'] == zib][hcols + tcols]\n",
    "    tdf.to_json(os.path.join('mapping', 'json', zib + '.json'), orient='records')"
   ]
  },
  {
   "cell_type": "code",
   "execution_count": 12,
   "id": "1e032878-8812-4674-8ddf-27100d0ba13c",
   "metadata": {
    "tags": []
   },
   "outputs": [],
   "source": [
    "for zib in zibs:\n",
    "    tdf = df[df['ZibName'] == zib][hcols + tcols]\n",
    "    tdf.to_excel(os.path.join('mapping', 'excel', zib + '.xlsx'), index=False)"
   ]
  },
  {
   "cell_type": "code",
   "execution_count": 13,
   "id": "fc9969d8-d88d-4350-99ac-35af2a2b0e20",
   "metadata": {},
   "outputs": [],
   "source": [
    "mdindex = \"# Index of available zib translations\\n\\n\"\n",
    "for zib in sorted(zibs):\n",
    "    mdindex = mdindex + \"* [ \" + zib + \"](mapping/md/\" + zib + \".md)\\n\"\n",
    "with open('index.md', 'w', encoding='utf8') as file:\n",
    "    file.write(mdindex)"
   ]
  }
 ],
 "metadata": {
  "kernelspec": {
   "display_name": "Python 3 (ipykernel)",
   "language": "python",
   "name": "python3"
  },
  "language_info": {
   "codemirror_mode": {
    "name": "ipython",
    "version": 3
   },
   "file_extension": ".py",
   "mimetype": "text/x-python",
   "name": "python",
   "nbconvert_exporter": "python",
   "pygments_lexer": "ipython3",
   "version": "3.8.18"
  }
 },
 "nbformat": 4,
 "nbformat_minor": 5
}
